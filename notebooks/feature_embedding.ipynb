{
  "cells": [
    {
      "cell_type": "markdown",
      "id": "9477a343",
      "metadata": {
        "id": "9477a343"
      },
      "source": [
        "# Introduction\n",
        "The goal of this notebook is to show how we can handle textual features with high cardinality through textual embeddings"
      ]
    },
    {
      "cell_type": "markdown",
      "id": "9322bfb5",
      "metadata": {
        "id": "9322bfb5"
      },
      "source": [
        "# Libraries, Functions and Global Variables"
      ]
    },
    {
      "cell_type": "markdown",
      "id": "37a33830",
      "metadata": {
        "id": "37a33830"
      },
      "source": [
        "#### Import Libraries"
      ]
    },
    {
      "cell_type": "code",
      "execution_count": 6,
      "id": "0ee22a0f",
      "metadata": {
        "colab": {
          "base_uri": "https://localhost:8080/"
        },
        "id": "0ee22a0f",
        "outputId": "a89d3d33-b1ce-44b6-95ef-df698558a6b1"
      },
      "outputs": [],
      "source": [
        "%load_ext autoreload\n",
        "%autoreload 2\n",
        "%matplotlib inline\n",
        "import numpy as np\n",
        "import pandas as pd\n",
        "from sklearn.metrics import mean_squared_error\n",
        "import numpy as np\n",
        "import pandas as pd\n",
        "import matplotlib.pyplot as plt\n",
        "import seaborn as sns\n",
        "import datetime\n",
        "import argparse\n",
        "import lightgbm\n",
        "from sklearn.pipeline import Pipeline\n",
        "from sklearn.impute import SimpleImputer\n",
        "from sklearn.compose import ColumnTransformer\n",
        "from sklearn.feature_extraction.text import TfidfVectorizer\n",
        "from category_encoders import OrdinalEncoder, TargetEncoder\n",
        "from sklearn.decomposition import PCA\n",
        "\n",
        "import helper\n",
        "from transformers import AutoModel, AutoTokenizer, pipeline\n",
        "import torch"
      ]
    },
    {
      "cell_type": "markdown",
      "id": "48dfbf0d",
      "metadata": {
        "id": "48dfbf0d"
      },
      "source": [
        "# Import Data"
      ]
    },
    {
      "cell_type": "code",
      "execution_count": 7,
      "id": "bbd83257",
      "metadata": {
        "colab": {
          "base_uri": "https://localhost:8080/",
          "height": 560
        },
        "id": "bbd83257",
        "outputId": "d14ed06d-88a2-4991-97ea-3650dba9331a"
      },
      "outputs": [
        {
          "data": {
            "text/html": [
              "<div>\n",
              "<style scoped>\n",
              "    .dataframe tbody tr th:only-of-type {\n",
              "        vertical-align: middle;\n",
              "    }\n",
              "\n",
              "    .dataframe tbody tr th {\n",
              "        vertical-align: top;\n",
              "    }\n",
              "\n",
              "    .dataframe thead th {\n",
              "        text-align: right;\n",
              "    }\n",
              "</style>\n",
              "<table border=\"1\" class=\"dataframe\">\n",
              "  <thead>\n",
              "    <tr style=\"text-align: right;\">\n",
              "      <th></th>\n",
              "      <th>year_week</th>\n",
              "      <th>recipe_id</th>\n",
              "      <th>recipe_name</th>\n",
              "      <th>product_type</th>\n",
              "      <th>calories</th>\n",
              "      <th>carbs</th>\n",
              "      <th>cooking_time</th>\n",
              "      <th>cuisine</th>\n",
              "      <th>description</th>\n",
              "      <th>difficulty</th>\n",
              "      <th>...</th>\n",
              "      <th>dish_types</th>\n",
              "      <th>seasons</th>\n",
              "      <th>protein_types</th>\n",
              "      <th>proteins</th>\n",
              "      <th>course_type</th>\n",
              "      <th>cooking_tip</th>\n",
              "      <th>meta_tags</th>\n",
              "      <th>percentage_of_local_ingredients</th>\n",
              "      <th>protein_cuts</th>\n",
              "      <th>sales</th>\n",
              "    </tr>\n",
              "  </thead>\n",
              "  <tbody>\n",
              "    <tr>\n",
              "      <th>0</th>\n",
              "      <td>201801</td>\n",
              "      <td>14919</td>\n",
              "      <td>Shrimp &amp; Broccoli Stir-Fry</td>\n",
              "      <td>2 person</td>\n",
              "      <td>687.0</td>\n",
              "      <td>99.2</td>\n",
              "      <td>time_level_4</td>\n",
              "      <td>asian</td>\n",
              "      <td>For this dish, once the ingredients are preppe...</td>\n",
              "      <td>easy</td>\n",
              "      <td>...</td>\n",
              "      <td>fish_and_side,stir_fry</td>\n",
              "      <td>all_seasons</td>\n",
              "      <td>shellfish</td>\n",
              "      <td>29.5</td>\n",
              "      <td>main</td>\n",
              "      <td>NaN</td>\n",
              "      <td>healthy_choice</td>\n",
              "      <td>0.0</td>\n",
              "      <td>NaN</td>\n",
              "      <td>3567</td>\n",
              "    </tr>\n",
              "    <tr>\n",
              "      <th>1</th>\n",
              "      <td>201801</td>\n",
              "      <td>14920</td>\n",
              "      <td>Caramelized Cabbage Pasta</td>\n",
              "      <td>2 person</td>\n",
              "      <td>779.0</td>\n",
              "      <td>81.3</td>\n",
              "      <td>time_level_4</td>\n",
              "      <td>new_american</td>\n",
              "      <td>Red lentil penne makes this pasta dish a pleas...</td>\n",
              "      <td>easy</td>\n",
              "      <td>...</td>\n",
              "      <td>pasta</td>\n",
              "      <td>all_seasons</td>\n",
              "      <td>no_protein</td>\n",
              "      <td>30.0</td>\n",
              "      <td>main</td>\n",
              "      <td>NaN</td>\n",
              "      <td>quick</td>\n",
              "      <td>0.0</td>\n",
              "      <td>no_cut</td>\n",
              "      <td>2532</td>\n",
              "    </tr>\n",
              "    <tr>\n",
              "      <th>2</th>\n",
              "      <td>201801</td>\n",
              "      <td>14449</td>\n",
              "      <td>AFC Vegetarian Pad Thai</td>\n",
              "      <td>z_amazon</td>\n",
              "      <td>642.0</td>\n",
              "      <td>92.8</td>\n",
              "      <td>NaN</td>\n",
              "      <td>NaN</td>\n",
              "      <td>Pad Thai is one of our favorite street foods t...</td>\n",
              "      <td>easy</td>\n",
              "      <td>...</td>\n",
              "      <td>NaN</td>\n",
              "      <td>NaN</td>\n",
              "      <td>NaN</td>\n",
              "      <td>16.2</td>\n",
              "      <td>NaN</td>\n",
              "      <td>NaN</td>\n",
              "      <td>NaN</td>\n",
              "      <td>NaN</td>\n",
              "      <td>NaN</td>\n",
              "      <td>6</td>\n",
              "    </tr>\n",
              "    <tr>\n",
              "      <th>3</th>\n",
              "      <td>201801</td>\n",
              "      <td>11963</td>\n",
              "      <td>Shrimp &amp; Broccoli Stir-Fry</td>\n",
              "      <td>family</td>\n",
              "      <td>620.0</td>\n",
              "      <td>93.2</td>\n",
              "      <td>time_level_4</td>\n",
              "      <td>asian</td>\n",
              "      <td>For this dish, once the ingredients are preppe...</td>\n",
              "      <td>easy</td>\n",
              "      <td>...</td>\n",
              "      <td>fish_and_side,stir_fry</td>\n",
              "      <td>all_seasons</td>\n",
              "      <td>shellfish</td>\n",
              "      <td>28.7</td>\n",
              "      <td>main</td>\n",
              "      <td>NaN</td>\n",
              "      <td>healthy_choice</td>\n",
              "      <td>0.0</td>\n",
              "      <td>NaN</td>\n",
              "      <td>642</td>\n",
              "    </tr>\n",
              "    <tr>\n",
              "      <th>4</th>\n",
              "      <td>201801</td>\n",
              "      <td>14914</td>\n",
              "      <td>Chicken &amp; Pasta Soup</td>\n",
              "      <td>family</td>\n",
              "      <td>610.0</td>\n",
              "      <td>67.0</td>\n",
              "      <td>time_level_4</td>\n",
              "      <td>new_american</td>\n",
              "      <td>We've never met a chicken soup we didn't like,...</td>\n",
              "      <td>easy</td>\n",
              "      <td>...</td>\n",
              "      <td>soup</td>\n",
              "      <td>all_seasons</td>\n",
              "      <td>poultry</td>\n",
              "      <td>36.0</td>\n",
              "      <td>main</td>\n",
              "      <td>NaN</td>\n",
              "      <td>healthy_choice</td>\n",
              "      <td>0.0</td>\n",
              "      <td>breast</td>\n",
              "      <td>1492</td>\n",
              "    </tr>\n",
              "  </tbody>\n",
              "</table>\n",
              "<p>5 rows × 27 columns</p>\n",
              "</div>"
            ],
            "text/plain": [
              "   year_week  recipe_id                 recipe_name product_type  calories  \\\n",
              "0     201801      14919  Shrimp & Broccoli Stir-Fry     2 person     687.0   \n",
              "1     201801      14920   Caramelized Cabbage Pasta     2 person     779.0   \n",
              "2     201801      14449     AFC Vegetarian Pad Thai     z_amazon     642.0   \n",
              "3     201801      11963  Shrimp & Broccoli Stir-Fry       family     620.0   \n",
              "4     201801      14914        Chicken & Pasta Soup       family     610.0   \n",
              "\n",
              "   carbs  cooking_time       cuisine  \\\n",
              "0   99.2  time_level_4         asian   \n",
              "1   81.3  time_level_4  new_american   \n",
              "2   92.8           NaN           NaN   \n",
              "3   93.2  time_level_4         asian   \n",
              "4   67.0  time_level_4  new_american   \n",
              "\n",
              "                                         description difficulty  ...  \\\n",
              "0  For this dish, once the ingredients are preppe...       easy  ...   \n",
              "1  Red lentil penne makes this pasta dish a pleas...       easy  ...   \n",
              "2  Pad Thai is one of our favorite street foods t...       easy  ...   \n",
              "3  For this dish, once the ingredients are preppe...       easy  ...   \n",
              "4  We've never met a chicken soup we didn't like,...       easy  ...   \n",
              "\n",
              "               dish_types      seasons  protein_types proteins  course_type  \\\n",
              "0  fish_and_side,stir_fry  all_seasons      shellfish     29.5         main   \n",
              "1                   pasta  all_seasons     no_protein     30.0         main   \n",
              "2                     NaN          NaN            NaN     16.2          NaN   \n",
              "3  fish_and_side,stir_fry  all_seasons      shellfish     28.7         main   \n",
              "4                    soup  all_seasons        poultry     36.0         main   \n",
              "\n",
              "  cooking_tip       meta_tags percentage_of_local_ingredients protein_cuts  \\\n",
              "0         NaN  healthy_choice                             0.0          NaN   \n",
              "1         NaN           quick                             0.0       no_cut   \n",
              "2         NaN             NaN                             NaN          NaN   \n",
              "3         NaN  healthy_choice                             0.0          NaN   \n",
              "4         NaN  healthy_choice                             0.0       breast   \n",
              "\n",
              "  sales  \n",
              "0  3567  \n",
              "1  2532  \n",
              "2     6  \n",
              "3   642  \n",
              "4  1492  \n",
              "\n",
              "[5 rows x 27 columns]"
            ]
          },
          "execution_count": 7,
          "metadata": {},
          "output_type": "execute_result"
        }
      ],
      "source": [
        "df_train_clean = pd.read_csv('../data/processed/train_data_cleaned.csv')\n",
        "df_test_clean = pd.read_csv('../data/processed/test_data_cleaned.csv')\n",
        "\n",
        "df_train_clean.head()"
      ]
    },
    {
      "cell_type": "markdown",
      "id": "9609a884",
      "metadata": {
        "id": "9609a884"
      },
      "source": [
        "# Pre-Processing Data"
      ]
    },
    {
      "cell_type": "markdown",
      "id": "4de5bf18",
      "metadata": {
        "id": "4de5bf18"
      },
      "source": [
        "#### Replace missing values with 'unk' in categorical features"
      ]
    },
    {
      "cell_type": "code",
      "execution_count": 6,
      "id": "558641a5",
      "metadata": {
        "id": "558641a5"
      },
      "outputs": [],
      "source": [
        "df_train_clean[helper.CAT_FEATURES_FILL_NAN] = df_train_clean[helper.CAT_FEATURES_FILL_NAN].fillna(\"unk\")\n",
        "df_test_clean[helper.CAT_FEATURES_FILL_NAN] = df_test_clean[helper.CAT_FEATURES_FILL_NAN].fillna(\"unk\")"
      ]
    },
    {
      "cell_type": "markdown",
      "id": "3cc76976",
      "metadata": {
        "id": "3cc76976"
      },
      "source": [
        "#### Convert all categorical features in lower case"
      ]
    },
    {
      "cell_type": "code",
      "execution_count": 7,
      "id": "54b90ec3",
      "metadata": {
        "id": "54b90ec3"
      },
      "outputs": [],
      "source": [
        "for i in df_train_clean.columns:\n",
        "    if df_train_clean[i].dtype == 'O':\n",
        "        df_train_clean[i] = df_train_clean[i].str.lower()\n",
        "        df_test_clean[i] = df_test_clean[i].str.lower()"
      ]
    },
    {
      "cell_type": "markdown",
      "id": "965080c7",
      "metadata": {
        "id": "965080c7"
      },
      "source": [
        "#### Create column with date starting on monday "
      ]
    },
    {
      "cell_type": "code",
      "execution_count": 8,
      "id": "ab519493",
      "metadata": {
        "id": "ab519493"
      },
      "outputs": [],
      "source": [
        "df_train_clean = helper.create_week_day(df_train_clean.copy())\n",
        "df_test_clean = helper.create_week_day(df_test_clean.copy())"
      ]
    },
    {
      "cell_type": "markdown",
      "id": "61df9749",
      "metadata": {
        "id": "61df9749"
      },
      "source": [
        "#### Alert to make sure all dates have 7 days between them"
      ]
    },
    {
      "cell_type": "code",
      "execution_count": 9,
      "id": "4888f40d",
      "metadata": {
        "id": "4888f40d"
      },
      "outputs": [],
      "source": [
        "# check for training set\n",
        "weekdays = sorted(df_train_clean[\"week_day\"].unique())\n",
        "assert len(np.unique(np.diff(weekdays))) == 1, \"At least one date is not separated by 7 days\"\n",
        "\n",
        "# check for test set\n",
        "weekdays = sorted(df_test_clean[\"week_day\"].unique())\n",
        "assert len(np.unique(np.diff(weekdays))) == 1, \"At least one date is not separated by 7 days\""
      ]
    },
    {
      "cell_type": "markdown",
      "id": "bd1555fc",
      "metadata": {
        "id": "bd1555fc"
      },
      "source": [
        "#### Add number of products feature to the data frame which is the number of recipes available by week"
      ]
    },
    {
      "cell_type": "code",
      "execution_count": 10,
      "id": "2a67b851",
      "metadata": {
        "id": "2a67b851"
      },
      "outputs": [],
      "source": [
        "#Add feature to train set\n",
        "df_train_clean = helper.create_n_recipes_feature(df_train_clean.copy())\n",
        "\n",
        "#Add feature to test set\n",
        "df_test_clean = helper.create_n_recipes_feature(df_test_clean.copy())"
      ]
    },
    {
      "cell_type": "markdown",
      "id": "2yy8L3NRl777",
      "metadata": {
        "id": "2yy8L3NRl777"
      },
      "source": [
        "# Embeddings"
      ]
    },
    {
      "cell_type": "markdown",
      "id": "oO9owfpY5kFI",
      "metadata": {
        "id": "oO9owfpY5kFI"
      },
      "source": [
        "## Loading the pretrained tokenizer and model from hugging face\n",
        "\n",
        " - There are different models that we can try, and you check them here: https://huggingface.co/models?pipeline_tag=feature-extraction\n",
        " - It is important to use the model's tokenizer so that it receives the data in a proper format and they are also useful since they already clean up the data for you.\n",
        " - Each tokenizer will have different ways of dealing with the data, therefore it is important to read about them."
      ]
    },
    {
      "cell_type": "code",
      "execution_count": 11,
      "id": "E5yaTFZLmbZW",
      "metadata": {
        "colab": {
          "base_uri": "https://localhost:8080/",
          "height": 249,
          "referenced_widgets": [
            "bb1d557dad764d17953dd66f155a04e9",
            "972ad9222b664fdeaf1290214ccadd15",
            "b46bc00deaea4729a924e72fe9f09dfc",
            "7cfa509d1e2d45de8bfadd64adaf2352",
            "a7fb4eb9bc1e4a9a8c53b86274da11a5",
            "724b080a7d744f58968b9ab72da7497b",
            "b8f9f08dcd714a0292c7228ff0fd5f0d",
            "20940e9c47624c0ca9d7400163f3a03b",
            "04598f89aa8c4b5c9d8ca21db2dfdb4c",
            "8e157b6d11934971930ad6a006d1a71d",
            "59c97ef3d40c493d8dfb3924d8b5da1a",
            "63a94b72c50d45098335a6210348a39f",
            "1002c855dc51499c9508f8c1ecc2f448",
            "e19941996290412c93bbbde7e93c32a9",
            "19979947046c4e509e448b6ec6929956",
            "632a7fff0d7d454fb8741d584dea4d09",
            "b20e885267dd4e65bf088e56483a5ab1",
            "33d61e9988ff40e5a508d6eac7145b32",
            "fcf40000bf26497d97370b36f02a66f1",
            "da21d2e895a84abba27da26dd7c093ab",
            "e34ea8a430764b8b8e131674c7f447ea",
            "b904ede538c446af9f41aa2c7cc75f8b",
            "cabf405cc3fa433bbfa5ce19ec490f22",
            "395afabe3b3e446d98c9501ebe785bed",
            "f4ae9a186a4c4a849e31f1cf758be90b",
            "8530d79b9b744946b8610fa6955a149f",
            "fef7f48029694a2f9fbfa8c6955186c9",
            "5bacfec023f741fda1d41c5374b236b1",
            "69d029b833704751a951702912915671",
            "572d03ac32f1446784a8857a0b08ffe7",
            "97c62c55512e4e86a4bd250bcb2f06b3",
            "1113dfd355d1403c8a02df9a4a979caf",
            "40b4d756ca624fb691fe83f2be8de507",
            "93d2479d39eb449cb2b26ef5afd6d6d0",
            "fe08a0d161e448f5a5c786f65c2fd760",
            "e8ddb348973a4a7b931191edb8187eda",
            "409836bd66b942569adb087608d86ff6",
            "6c27a6e127f44daaa9dd4e867f92be98",
            "901404ea7d5e41fe9d9ab12ff8031b96",
            "19f4e2bcb00b4dc4aa6804a0ece5df5c",
            "4b26018419814fc08ce9993d27ca372f",
            "5fb8c12b35fd487e87cbcba95375c042",
            "b67f23a6a99c4622aeec2cb9a0551bf1",
            "4b0bd225c37e46719261f04135d62068",
            "fcf11fad65eb4f12bb6de75d1b331a80",
            "f3fae95592a743a7aa84a7632db8dcc4",
            "49f50a11b9b54a00904b0367b2253ef7",
            "6b340727f041492c986722922c587be3",
            "e8ceeb3f62054a09ba1a051e34a80178",
            "d64a346451044ffcb50b356fb617372e",
            "226e79c803254a0e90004f0ce25283d8",
            "c9116c620cd246798b669ff9431662e9",
            "cfce16c8976d466c9c2c24842502512a",
            "a39a2191884e4681be4aa0465189d026",
            "e961a40b7e354307a97ef5b1e2390949"
          ]
        },
        "id": "E5yaTFZLmbZW",
        "outputId": "e97c8068-6893-4c99-d6d0-2b24342d0ecc"
      },
      "outputs": [
        {
          "data": {
            "application/vnd.jupyter.widget-view+json": {
              "model_id": "bb1d557dad764d17953dd66f155a04e9",
              "version_major": 2,
              "version_minor": 0
            },
            "text/plain": [
              "Downloading:   0%|          | 0.00/28.0 [00:00<?, ?B/s]"
            ]
          },
          "metadata": {},
          "output_type": "display_data"
        },
        {
          "data": {
            "application/vnd.jupyter.widget-view+json": {
              "model_id": "63a94b72c50d45098335a6210348a39f",
              "version_major": 2,
              "version_minor": 0
            },
            "text/plain": [
              "Downloading:   0%|          | 0.00/483 [00:00<?, ?B/s]"
            ]
          },
          "metadata": {},
          "output_type": "display_data"
        },
        {
          "data": {
            "application/vnd.jupyter.widget-view+json": {
              "model_id": "cabf405cc3fa433bbfa5ce19ec490f22",
              "version_major": 2,
              "version_minor": 0
            },
            "text/plain": [
              "Downloading:   0%|          | 0.00/232k [00:00<?, ?B/s]"
            ]
          },
          "metadata": {},
          "output_type": "display_data"
        },
        {
          "data": {
            "application/vnd.jupyter.widget-view+json": {
              "model_id": "93d2479d39eb449cb2b26ef5afd6d6d0",
              "version_major": 2,
              "version_minor": 0
            },
            "text/plain": [
              "Downloading:   0%|          | 0.00/466k [00:00<?, ?B/s]"
            ]
          },
          "metadata": {},
          "output_type": "display_data"
        },
        {
          "data": {
            "application/vnd.jupyter.widget-view+json": {
              "model_id": "fcf11fad65eb4f12bb6de75d1b331a80",
              "version_major": 2,
              "version_minor": 0
            },
            "text/plain": [
              "Downloading:   0%|          | 0.00/268M [00:00<?, ?B/s]"
            ]
          },
          "metadata": {},
          "output_type": "display_data"
        },
        {
          "name": "stderr",
          "output_type": "stream",
          "text": [
            "Some weights of the model checkpoint at distilbert-base-uncased were not used when initializing DistilBertModel: ['vocab_projector.weight', 'vocab_transform.bias', 'vocab_projector.bias', 'vocab_layer_norm.bias', 'vocab_transform.weight', 'vocab_layer_norm.weight']\n",
            "- This IS expected if you are initializing DistilBertModel from the checkpoint of a model trained on another task or with another architecture (e.g. initializing a BertForSequenceClassification model from a BertForPreTraining model).\n",
            "- This IS NOT expected if you are initializing DistilBertModel from the checkpoint of a model that you expect to be exactly identical (initializing a BertForSequenceClassification model from a BertForSequenceClassification model).\n"
          ]
        }
      ],
      "source": [
        "model_ckpt = \"distilbert-base-uncased\"\n",
        "tokenizer = AutoTokenizer.from_pretrained(model_ckpt)\n",
        "model = AutoModel.from_pretrained(model_ckpt)"
      ]
    },
    {
      "cell_type": "markdown",
      "id": "T6jw4UIh5qF7",
      "metadata": {
        "id": "T6jw4UIh5qF7"
      },
      "source": [
        "## Let's pick the 2 features with the highest cardinality in the dataset `recipe_name` and `description`, with 931 and 981 different classes, respectively. \n",
        "\n",
        "- We will get the hidden state from the CLS token which represents an entire sequence of text and helps us not to deal with a 768 array for each token in a string, we just need to deal with one.\n",
        "\n",
        "- the 768 array is specific to this model, other models can return only 100 or 200, etc."
      ]
    },
    {
      "cell_type": "code",
      "execution_count": 12,
      "id": "uuR2Uzlft47c",
      "metadata": {
        "id": "uuR2Uzlft47c"
      },
      "outputs": [],
      "source": [
        "df_train_clean['recipe_name'] = df_train_clean['recipe_name'].apply(lambda x: model(**tokenizer(x, return_tensors=\"pt\")).last_hidden_state[:,0,:].detach().numpy()[0])\n",
        "df_train_clean['description'] = df_train_clean['description'].apply(lambda x: model(**tokenizer(x, return_tensors=\"pt\")).last_hidden_state[:,0,:].detach().numpy()[0])"
      ]
    },
    {
      "cell_type": "code",
      "execution_count": 93,
      "id": "qANbKbSD8GYQ",
      "metadata": {
        "id": "qANbKbSD8GYQ"
      },
      "outputs": [],
      "source": [
        "df_test_clean['recipe_name'] = df_test_clean['recipe_name'].apply(lambda x: model(**tokenizer(x, return_tensors=\"pt\")).last_hidden_state[:,0,:].detach().numpy()[0])\n",
        "df_test_clean['description'] = df_test_clean['description'].apply(lambda x: model(**tokenizer(x, return_tensors=\"pt\")).last_hidden_state[:,0,:].detach().numpy()[0])"
      ]
    },
    {
      "cell_type": "markdown",
      "id": "db9KN20H8Lve",
      "metadata": {
        "id": "db9KN20H8Lve"
      },
      "source": [
        "## Now we have a array with 768 elements for each string in the dataset, so 768 new features that we can handle using different approaches, for example:\n",
        " - getting statistics like average, percentiles, min, max, standard deviation\n",
        " - applying a dimensionality reduction approch like PCA\n",
        "\n",
        " Let's apply PCA to get 2 components, so that we can plot them and see if they have some predictive power by coloring different bins of sales"
      ]
    },
    {
      "cell_type": "code",
      "execution_count": 94,
      "id": "Q8K1S6H2m0oP",
      "metadata": {
        "id": "Q8K1S6H2m0oP"
      },
      "outputs": [],
      "source": [
        "# get a 768 column dataframe for recipe_name and description\n",
        "recipe_name_df = helper.get_embeddings_df(df_train_clean, 'recipe_name')\n",
        "description_df = helper.get_embeddings_df(df_train_clean, 'description')"
      ]
    },
    {
      "cell_type": "code",
      "execution_count": 83,
      "id": "IHijmh1rojXU",
      "metadata": {
        "id": "IHijmh1rojXU"
      },
      "outputs": [],
      "source": [
        "# apply PCA\n",
        "pca = PCA(n_components=2)\n",
        "recipe_name_2_components = pd.DataFrame(pca.fit_transform(recipe_name_df), columns = ['X', 'Y'])"
      ]
    },
    {
      "cell_type": "code",
      "execution_count": 84,
      "id": "bdGtmlIV87qP",
      "metadata": {
        "id": "bdGtmlIV87qP"
      },
      "outputs": [],
      "source": [
        "# binning the sales into 5 bins with the same quantity of points in each bin\n",
        "# our sales are highly skewed, therefore we will have a lot of points in bin 0\n",
        "from sklearn.preprocessing import KBinsDiscretizer\n",
        "bin = KBinsDiscretizer(n_bins=5, encode='ordinal', strategy='uniform')\n",
        "df_train_clean['bin_sales'] = bin.fit_transform(df_train_clean['sales'].values.reshape(-1, 1) )"
      ]
    },
    {
      "cell_type": "code",
      "execution_count": 87,
      "id": "XOhN_Fl_wU6g",
      "metadata": {
        "colab": {
          "base_uri": "https://localhost:8080/",
          "height": 351
        },
        "id": "XOhN_Fl_wU6g",
        "outputId": "1c0f8a9e-5f41-4575-efa3-05a757182841"
      },
      "outputs": [
        {
          "name": "stderr",
          "output_type": "stream",
          "text": [
            "/usr/local/lib/python3.7/dist-packages/seaborn/_decorators.py:43: FutureWarning: Pass the following variable as a keyword arg: x. From version 0.12, the only valid positional argument will be `data`, and passing other arguments without an explicit keyword will result in an error or misinterpretation.\n",
            "  FutureWarning\n"
          ]
        },
        {
          "data": {
            "image/png": "[encoded data removed]",
            "text/plain": [
              "<Figure size 432x288 with 1 Axes>"
            ]
          },
          "metadata": {
            "needs_background": "light"
          },
          "output_type": "display_data"
        }
      ],
      "source": [
        "sns.countplot(df_train_clean.bin_sales)\n",
        "plt.title(\"Number of samples in each bin level\")\n",
        "plt.show()"
      ]
    },
    {
      "cell_type": "code",
      "execution_count": 88,
      "id": "DKlBhVPlxq2S",
      "metadata": {
        "colab": {
          "base_uri": "https://localhost:8080/",
          "height": 279
        },
        "id": "DKlBhVPlxq2S",
        "outputId": "db176601-951b-4a9e-81d1-454fbd820c5b"
      },
      "outputs": [
        {
          "data": {
            "image/png": "[encoded data removed]",
            "text/plain": [
              "<Figure size 432x288 with 1 Axes>"
            ]
          },
          "metadata": {
            "needs_background": "light"
          },
          "output_type": "display_data"
        }
      ],
      "source": [
        "# add bins to our PCA dataset\n",
        "recipe_name_2_components['bin_sales'] = df_train_clean['bin_sales'] \n",
        "sns.scatterplot(data=recipe_name_2_components, x='X', y='Y', hue='bin_sales', palette=\"tab10\")\n",
        "plt.show()"
      ]
    },
    {
      "cell_type": "markdown",
      "id": "Xrnci8C--gmU",
      "metadata": {
        "id": "Xrnci8C--gmU"
      },
      "source": [
        "From the above chart is not clear the predictive power of these 2 components, maybe because these feature is not important for this problem!\n",
        "\n",
        "Nevertheless, the goal here was to show how to deal with categorical features with high cardinality, so let's use these features in our model!!"
      ]
    },
    {
      "cell_type": "code",
      "execution_count": 95,
      "id": "fo7HBdj7BvsW",
      "metadata": {
        "id": "fo7HBdj7BvsW"
      },
      "outputs": [],
      "source": [
        "recipe_name_df_test = helper.get_embeddings_df(df_test_clean, 'recipe_name')\n",
        "description_df_test = helper.get_embeddings_df(df_test_clean, 'description')"
      ]
    },
    {
      "cell_type": "code",
      "execution_count": 100,
      "id": "4ymQ4hUb_BEz",
      "metadata": {
        "id": "4ymQ4hUb_BEz"
      },
      "outputs": [],
      "source": [
        "# identify the number of components needed based on variance explained\n",
        "recipe_name_components, recipe_name_components_test = helper.apply_PCA(recipe_name_df, recipe_name_df_test, 'recipe_name', variance_explained=0.8)\n",
        "description_components, description_components_test = helper.apply_PCA(description_df, description_df_test, 'description', variance_explained=0.8)"
      ]
    },
    {
      "cell_type": "code",
      "execution_count": 106,
      "id": "30S1jp6NCk2u",
      "metadata": {
        "id": "30S1jp6NCk2u"
      },
      "outputs": [],
      "source": [
        "# merge with dataframe\n",
        "df_train_clean = pd.merge(df_train_clean, recipe_name_components, left_index=True, right_index=True, how='left')\n",
        "df_train_clean = pd.merge(df_train_clean, description_components, left_index=True, right_index=True, how='left')\n",
        "df_test_clean = pd.merge(df_test_clean, recipe_name_components_test, left_index=True, right_index=True, how='left')\n",
        "df_test_clean = pd.merge(df_test_clean, description_components_test, left_index=True, right_index=True, how='left')"
      ]
    },
    {
      "cell_type": "code",
      "execution_count": 107,
      "id": "HUukyz8kDIPX",
      "metadata": {
        "colab": {
          "base_uri": "https://localhost:8080/"
        },
        "id": "HUukyz8kDIPX",
        "outputId": "9e87510c-3fc5-4df8-dbb2-df22cb035ec6"
      },
      "outputs": [
        {
          "data": {
            "text/plain": [
              "(2939, 92)"
            ]
          },
          "execution_count": 107,
          "metadata": {},
          "output_type": "execute_result"
        }
      ],
      "source": [
        "df_train_clean.shape"
      ]
    },
    {
      "cell_type": "markdown",
      "id": "75c06a95",
      "metadata": {
        "id": "75c06a95"
      },
      "source": [
        "# Modeling"
      ]
    },
    {
      "cell_type": "code",
      "execution_count": 108,
      "id": "43275a68",
      "metadata": {
        "id": "43275a68"
      },
      "outputs": [],
      "source": [
        "args = helper.parse_arguments()"
      ]
    },
    {
      "cell_type": "markdown",
      "id": "eaae4da7",
      "metadata": {
        "id": "eaae4da7"
      },
      "source": [
        "#### Create Model Pipeline\n",
        "**Features:**\n",
        "   * Ordinal Encoding for Categorical features which assign a ordered label to each class (1,2,3...)\n",
        "   * SimpleImputer inputs missing values in Numerical Features\n",
        "   * TFIDF for text and tag features tries to scale down the impact of tokens that occur very frequently in a given corpus and that are hence empirically less informative than features that occur in a small fraction of the training corpus.\n",
        "   * Apply LGBM"
      ]
    },
    {
      "cell_type": "code",
      "execution_count": 109,
      "id": "e47e4828",
      "metadata": {
        "id": "e47e4828"
      },
      "outputs": [],
      "source": [
        "model = Pipeline([\n",
        "    (\"feature_preprocessor\", ColumnTransformer([\n",
        "        # Note: Ordinal encoding works quite well for the models based on decision trees\n",
        "        (\"categorical\", OrdinalEncoder(handle_missing=args.handle_missing), helper.CATEGORICAL_FEATURES),\n",
        "        ## Numerical features will be passed through the model with no inputation on missing values\n",
        "        (\"numerical\", \"passthrough\", helper.NUMERICAL_FEATURES),\n",
        "        (\"meta_tags_tfidf\", TfidfVectorizer(min_df=args.min_df), helper.TAGS_FEATURES[0]),\n",
        "        (\"carbs_content_tfidf\", TfidfVectorizer(min_df=args.min_df), helper.TAGS_FEATURES[1]),\n",
        "    ])),\n",
        "    (\"regressor\", lightgbm.LGBMRegressor(\n",
        "        n_estimators= args.n_estimators,\n",
        "        objective= args.objective,\n",
        "        num_leaves=args.num_leaves,\n",
        "        max_depth=args.max_depth,\n",
        "        min_child_samples=args.min_child_samples,\n",
        "        learning_rate=args.learning_rate,\n",
        "        colsample_bytree=args.colsample_bytree,\n",
        "        verbosity=args.verbosity,\n",
        "        extra_trees=args.extra_trees,\n",
        "        random_state=args.random_state,\n",
        "    )),\n",
        "])"
      ]
    },
    {
      "cell_type": "markdown",
      "id": "8c62059b",
      "metadata": {
        "id": "8c62059b"
      },
      "source": [
        "#### Create an auxiliar list to control the creation of train folds and val folds"
      ]
    },
    {
      "cell_type": "code",
      "execution_count": 110,
      "id": "9ed372d3",
      "metadata": {
        "id": "9ed372d3"
      },
      "outputs": [],
      "source": [
        "year_weeks = sorted(df_train_clean.year_week.unique())"
      ]
    },
    {
      "cell_type": "markdown",
      "id": "6ee67ff7",
      "metadata": {
        "id": "6ee67ff7"
      },
      "source": [
        "#### Start spliting the data into 5 weeks validation and the previous weeks for training"
      ]
    },
    {
      "cell_type": "code",
      "execution_count": 112,
      "id": "JQBdATevZVXO",
      "metadata": {
        "id": "JQBdATevZVXO"
      },
      "outputs": [],
      "source": [
        "FEATURES = helper.FEATURES+recipe_name_components.columns.tolist()+description_components.columns.tolist()"
      ]
    },
    {
      "cell_type": "code",
      "execution_count": 113,
      "id": "5bce9ffb",
      "metadata": {
        "colab": {
          "base_uri": "https://localhost:8080/"
        },
        "id": "5bce9ffb",
        "outputId": "4bde7d73-bfe2-405a-9bc6-4dbf063fa2de"
      },
      "outputs": [
        {
          "name": "stdout",
          "output_type": "stream",
          "text": [
            "Running CV on fold 1 / 5\n",
            "  Running validation on weeks 201940 - 201944\n",
            "  Number of training samples: 2737\n",
            "  Number of validation samples: 202\n",
            "  Training the model...\n",
            "  RMSE: 3053.86\n",
            "Running CV on fold 2 / 5\n",
            "  Running validation on weeks 201935 - 201939\n",
            "  Number of training samples: 2531\n",
            "  Number of validation samples: 206\n",
            "  Training the model...\n",
            "  RMSE: 3172.72\n",
            "Running CV on fold 3 / 5\n",
            "  Running validation on weeks 201930 - 201934\n",
            "  Number of training samples: 2331\n",
            "  Number of validation samples: 200\n",
            "  Training the model...\n",
            "  RMSE: 2980.67\n",
            "Running CV on fold 4 / 5\n",
            "  Running validation on weeks 201925 - 201929\n",
            "  Number of training samples: 2131\n",
            "  Number of validation samples: 200\n",
            "  Training the model...\n",
            "  RMSE: 3315.62\n",
            "Running CV on fold 5 / 5\n",
            "  Running validation on weeks 201920 - 201924\n",
            "  Number of training samples: 1931\n",
            "  Number of validation samples: 200\n",
            "  Training the model...\n",
            "  RMSE: 3547.24\n",
            "Average RMSE accross 5 folds: 3214.02\n"
          ]
        }
      ],
      "source": [
        "errors = []\n",
        "n_folds = args.folds\n",
        "n_of_weeks_to_predict = args.weeks\n",
        "\n",
        "for fold in range(n_folds):\n",
        "    print(f\"Running CV on fold {fold + 1} / {n_folds}\")\n",
        "    week_start = year_weeks[-(fold + 1) * n_of_weeks_to_predict]\n",
        "    week_end = year_weeks[-fold * n_of_weeks_to_predict - 1]\n",
        "\n",
        "    print(f\"  Running validation on weeks {week_start} - {week_end}\")\n",
        "\n",
        "    df_train = df_train_clean[df_train_clean.year_week < week_start]\n",
        "    df_val = df_train_clean[(df_train_clean.year_week >= week_start) & (df_train_clean.year_week <= week_end)]\n",
        "\n",
        "    print(f\"  Number of training samples: {len(df_train)}\")\n",
        "    print(f\"  Number of validation samples: {len(df_val)}\")\n",
        "\n",
        "    assert len(df_val.year_week.unique()) == n_of_weeks_to_predict, f\"The prediction must be done for {n_of_weeks_to_predict}\"\n",
        "\n",
        "    print(\"  Training the model...\")\n",
        "    model.fit(df_train.loc[:,FEATURES], df_train.sales, regressor__sample_weight=helper.estimate_sample_weights(df_train, weight = args.weight))\n",
        "    y_predicted = np.clip(model.predict(df_val.loc[:,FEATURES]), 0, np.inf).astype(int)\n",
        "    error = helper.rmse(df_val.sales, y_predicted)\n",
        "\n",
        "    print(f\"  RMSE: {error:.2f}\")\n",
        "    errors.append(error)\n",
        "\n",
        "print(f\"Average RMSE accross {n_folds} folds: {np.mean(errors):.2f}\")"
      ]
    }
  ],
  "metadata": {
    "colab": {
      "collapsed_sections": [],
      "provenance": []
    },
    "kernelspec": {
      "display_name": "Python 3.7.13 ('marleyspoon')",
      "language": "python",
      "name": "python3"
    },
    "language_info": {
      "codemirror_mode": {
        "name": "ipython",
        "version": 3
      },
      "file_extension": ".py",
      "mimetype": "text/x-python",
      "name": "python",
      "nbconvert_exporter": "python",
      "pygments_lexer": "ipython3",
      "version": "3.7.13"
    },
    "vscode": {
      "interpreter": {
        "hash": "4dddbb7eea7ac467c4d1a7e4db7a81b3d1d92710a66cf66296a0c5cd8b9ef623"
      }
    },
    "widgets": {
      "application/vnd.jupyter.widget-state+json": {
        "04598f89aa8c4b5c9d8ca21db2dfdb4c": {
          "model_module": "@jupyter-widgets/controls",
          "model_module_version": "1.5.0",
          "model_name": "ProgressStyleModel",
          "state": {
            "_model_module": "@jupyter-widgets/controls",
            "_model_module_version": "1.5.0",
            "_model_name": "ProgressStyleModel",
            "_view_count": null,
            "_view_module": "@jupyter-widgets/base",
            "_view_module_version": "1.2.0",
            "_view_name": "StyleView",
            "bar_color": null,
            "description_width": ""
          }
        },
        "1002c855dc51499c9508f8c1ecc2f448": {
          "model_module": "@jupyter-widgets/controls",
          "model_module_version": "1.5.0",
          "model_name": "HTMLModel",
          "state": {
            "_dom_classes": [],
            "_model_module": "@jupyter-widgets/controls",
            "_model_module_version": "1.5.0",
            "_model_name": "HTMLModel",
            "_view_count": null,
            "_view_module": "@jupyter-widgets/controls",
            "_view_module_version": "1.5.0",
            "_view_name": "HTMLView",
            "description": "",
            "description_tooltip": null,
            "layout": "IPY_MODEL_b20e885267dd4e65bf088e56483a5ab1",
            "placeholder": "​",
            "style": "IPY_MODEL_33d61e9988ff40e5a508d6eac7145b32",
            "value": "Downloading: 100%"
          }
        },
        "1113dfd355d1403c8a02df9a4a979caf": {
          "model_module": "@jupyter-widgets/base",
          "model_module_version": "1.2.0",
          "model_name": "LayoutModel",
          "state": {
            "_model_module": "@jupyter-widgets/base",
            "_model_module_version": "1.2.0",
            "_model_name": "LayoutModel",
            "_view_count": null,
            "_view_module": "@jupyter-widgets/base",
            "_view_module_version": "1.2.0",
            "_view_name": "LayoutView",
            "align_content": null,
            "align_items": null,
            "align_self": null,
            "border": null,
            "bottom": null,
            "display": null,
            "flex": null,
            "flex_flow": null,
            "grid_area": null,
            "grid_auto_columns": null,
            "grid_auto_flow": null,
            "grid_auto_rows": null,
            "grid_column": null,
            "grid_gap": null,
            "grid_row": null,
            "grid_template_areas": null,
            "grid_template_columns": null,
            "grid_template_rows": null,
            "height": null,
            "justify_content": null,
            "justify_items": null,
            "left": null,
            "margin": null,
            "max_height": null,
            "max_width": null,
            "min_height": null,
            "min_width": null,
            "object_fit": null,
            "object_position": null,
            "order": null,
            "overflow": null,
            "overflow_x": null,
            "overflow_y": null,
            "padding": null,
            "right": null,
            "top": null,
            "visibility": null,
            "width": null
          }
        },
        "19979947046c4e509e448b6ec6929956": {
          "model_module": "@jupyter-widgets/controls",
          "model_module_version": "1.5.0",
          "model_name": "HTMLModel",
          "state": {
            "_dom_classes": [],
            "_model_module": "@jupyter-widgets/controls",
            "_model_module_version": "1.5.0",
            "_model_name": "HTMLModel",
            "_view_count": null,
            "_view_module": "@jupyter-widgets/controls",
            "_view_module_version": "1.5.0",
            "_view_name": "HTMLView",
            "description": "",
            "description_tooltip": null,
            "layout": "IPY_MODEL_e34ea8a430764b8b8e131674c7f447ea",
            "placeholder": "​",
            "style": "IPY_MODEL_b904ede538c446af9f41aa2c7cc75f8b",
            "value": " 483/483 [00:00&lt;00:00, 8.20kB/s]"
          }
        },
        "19f4e2bcb00b4dc4aa6804a0ece5df5c": {
          "model_module": "@jupyter-widgets/controls",
          "model_module_version": "1.5.0",
          "model_name": "DescriptionStyleModel",
          "state": {
            "_model_module": "@jupyter-widgets/controls",
            "_model_module_version": "1.5.0",
            "_model_name": "DescriptionStyleModel",
            "_view_count": null,
            "_view_module": "@jupyter-widgets/base",
            "_view_module_version": "1.2.0",
            "_view_name": "StyleView",
            "description_width": ""
          }
        },
        "20940e9c47624c0ca9d7400163f3a03b": {
          "model_module": "@jupyter-widgets/base",
          "model_module_version": "1.2.0",
          "model_name": "LayoutModel",
          "state": {
            "_model_module": "@jupyter-widgets/base",
            "_model_module_version": "1.2.0",
            "_model_name": "LayoutModel",
            "_view_count": null,
            "_view_module": "@jupyter-widgets/base",
            "_view_module_version": "1.2.0",
            "_view_name": "LayoutView",
            "align_content": null,
            "align_items": null,
            "align_self": null,
            "border": null,
            "bottom": null,
            "display": null,
            "flex": null,
            "flex_flow": null,
            "grid_area": null,
            "grid_auto_columns": null,
            "grid_auto_flow": null,
            "grid_auto_rows": null,
            "grid_column": null,
            "grid_gap": null,
            "grid_row": null,
            "grid_template_areas": null,
            "grid_template_columns": null,
            "grid_template_rows": null,
            "height": null,
            "justify_content": null,
            "justify_items": null,
            "left": null,
            "margin": null,
            "max_height": null,
            "max_width": null,
            "min_height": null,
            "min_width": null,
            "object_fit": null,
            "object_position": null,
            "order": null,
            "overflow": null,
            "overflow_x": null,
            "overflow_y": null,
            "padding": null,
            "right": null,
            "top": null,
            "visibility": null,
            "width": null
          }
        },
        "226e79c803254a0e90004f0ce25283d8": {
          "model_module": "@jupyter-widgets/controls",
          "model_module_version": "1.5.0",
          "model_name": "DescriptionStyleModel",
          "state": {
            "_model_module": "@jupyter-widgets/controls",
            "_model_module_version": "1.5.0",
            "_model_name": "DescriptionStyleModel",
            "_view_count": null,
            "_view_module": "@jupyter-widgets/base",
            "_view_module_version": "1.2.0",
            "_view_name": "StyleView",
            "description_width": ""
          }
        },
        "33d61e9988ff40e5a508d6eac7145b32": {
          "model_module": "@jupyter-widgets/controls",
          "model_module_version": "1.5.0",
          "model_name": "DescriptionStyleModel",
          "state": {
            "_model_module": "@jupyter-widgets/controls",
            "_model_module_version": "1.5.0",
            "_model_name": "DescriptionStyleModel",
            "_view_count": null,
            "_view_module": "@jupyter-widgets/base",
            "_view_module_version": "1.2.0",
            "_view_name": "StyleView",
            "description_width": ""
          }
        },
        "395afabe3b3e446d98c9501ebe785bed": {
          "model_module": "@jupyter-widgets/controls",
          "model_module_version": "1.5.0",
          "model_name": "HTMLModel",
          "state": {
            "_dom_classes": [],
            "_model_module": "@jupyter-widgets/controls",
            "_model_module_version": "1.5.0",
            "_model_name": "HTMLModel",
            "_view_count": null,
            "_view_module": "@jupyter-widgets/controls",
            "_view_module_version": "1.5.0",
            "_view_name": "HTMLView",
            "description": "",
            "description_tooltip": null,
            "layout": "IPY_MODEL_5bacfec023f741fda1d41c5374b236b1",
            "placeholder": "​",
            "style": "IPY_MODEL_69d029b833704751a951702912915671",
            "value": "Downloading: 100%"
          }
        },
        "409836bd66b942569adb087608d86ff6": {
          "model_module": "@jupyter-widgets/controls",
          "model_module_version": "1.5.0",
          "model_name": "HTMLModel",
          "state": {
            "_dom_classes": [],
            "_model_module": "@jupyter-widgets/controls",
            "_model_module_version": "1.5.0",
            "_model_name": "HTMLModel",
            "_view_count": null,
            "_view_module": "@jupyter-widgets/controls",
            "_view_module_version": "1.5.0",
            "_view_name": "HTMLView",
            "description": "",
            "description_tooltip": null,
            "layout": "IPY_MODEL_b67f23a6a99c4622aeec2cb9a0551bf1",
            "placeholder": "​",
            "style": "IPY_MODEL_4b0bd225c37e46719261f04135d62068",
            "value": " 466k/466k [00:00&lt;00:00, 1.22MB/s]"
          }
        },
        "40b4d756ca624fb691fe83f2be8de507": {
          "model_module": "@jupyter-widgets/controls",
          "model_module_version": "1.5.0",
          "model_name": "DescriptionStyleModel",
          "state": {
            "_model_module": "@jupyter-widgets/controls",
            "_model_module_version": "1.5.0",
            "_model_name": "DescriptionStyleModel",
            "_view_count": null,
            "_view_module": "@jupyter-widgets/base",
            "_view_module_version": "1.2.0",
            "_view_name": "StyleView",
            "description_width": ""
          }
        },
        "49f50a11b9b54a00904b0367b2253ef7": {
          "model_module": "@jupyter-widgets/controls",
          "model_module_version": "1.5.0",
          "model_name": "FloatProgressModel",
          "state": {
            "_dom_classes": [],
            "_model_module": "@jupyter-widgets/controls",
            "_model_module_version": "1.5.0",
            "_model_name": "FloatProgressModel",
            "_view_count": null,
            "_view_module": "@jupyter-widgets/controls",
            "_view_module_version": "1.5.0",
            "_view_name": "ProgressView",
            "bar_style": "success",
            "description": "",
            "description_tooltip": null,
            "layout": "IPY_MODEL_c9116c620cd246798b669ff9431662e9",
            "max": 267967963,
            "min": 0,
            "orientation": "horizontal",
            "style": "IPY_MODEL_cfce16c8976d466c9c2c24842502512a",
            "value": 267967963
          }
        },
        "4b0bd225c37e46719261f04135d62068": {
          "model_module": "@jupyter-widgets/controls",
          "model_module_version": "1.5.0",
          "model_name": "DescriptionStyleModel",
          "state": {
            "_model_module": "@jupyter-widgets/controls",
            "_model_module_version": "1.5.0",
            "_model_name": "DescriptionStyleModel",
            "_view_count": null,
            "_view_module": "@jupyter-widgets/base",
            "_view_module_version": "1.2.0",
            "_view_name": "StyleView",
            "description_width": ""
          }
        },
        "4b26018419814fc08ce9993d27ca372f": {
          "model_module": "@jupyter-widgets/base",
          "model_module_version": "1.2.0",
          "model_name": "LayoutModel",
          "state": {
            "_model_module": "@jupyter-widgets/base",
            "_model_module_version": "1.2.0",
            "_model_name": "LayoutModel",
            "_view_count": null,
            "_view_module": "@jupyter-widgets/base",
            "_view_module_version": "1.2.0",
            "_view_name": "LayoutView",
            "align_content": null,
            "align_items": null,
            "align_self": null,
            "border": null,
            "bottom": null,
            "display": null,
            "flex": null,
            "flex_flow": null,
            "grid_area": null,
            "grid_auto_columns": null,
            "grid_auto_flow": null,
            "grid_auto_rows": null,
            "grid_column": null,
            "grid_gap": null,
            "grid_row": null,
            "grid_template_areas": null,
            "grid_template_columns": null,
            "grid_template_rows": null,
            "height": null,
            "justify_content": null,
            "justify_items": null,
            "left": null,
            "margin": null,
            "max_height": null,
            "max_width": null,
            "min_height": null,
            "min_width": null,
            "object_fit": null,
            "object_position": null,
            "order": null,
            "overflow": null,
            "overflow_x": null,
            "overflow_y": null,
            "padding": null,
            "right": null,
            "top": null,
            "visibility": null,
            "width": null
          }
        },
        "572d03ac32f1446784a8857a0b08ffe7": {
          "model_module": "@jupyter-widgets/base",
          "model_module_version": "1.2.0",
          "model_name": "LayoutModel",
          "state": {
            "_model_module": "@jupyter-widgets/base",
            "_model_module_version": "1.2.0",
            "_model_name": "LayoutModel",
            "_view_count": null,
            "_view_module": "@jupyter-widgets/base",
            "_view_module_version": "1.2.0",
            "_view_name": "LayoutView",
            "align_content": null,
            "align_items": null,
            "align_self": null,
            "border": null,
            "bottom": null,
            "display": null,
            "flex": null,
            "flex_flow": null,
            "grid_area": null,
            "grid_auto_columns": null,
            "grid_auto_flow": null,
            "grid_auto_rows": null,
            "grid_column": null,
            "grid_gap": null,
            "grid_row": null,
            "grid_template_areas": null,
            "grid_template_columns": null,
            "grid_template_rows": null,
            "height": null,
            "justify_content": null,
            "justify_items": null,
            "left": null,
            "margin": null,
            "max_height": null,
            "max_width": null,
            "min_height": null,
            "min_width": null,
            "object_fit": null,
            "object_position": null,
            "order": null,
            "overflow": null,
            "overflow_x": null,
            "overflow_y": null,
            "padding": null,
            "right": null,
            "top": null,
            "visibility": null,
            "width": null
          }
        },
        "59c97ef3d40c493d8dfb3924d8b5da1a": {
          "model_module": "@jupyter-widgets/controls",
          "model_module_version": "1.5.0",
          "model_name": "DescriptionStyleModel",
          "state": {
            "_model_module": "@jupyter-widgets/controls",
            "_model_module_version": "1.5.0",
            "_model_name": "DescriptionStyleModel",
            "_view_count": null,
            "_view_module": "@jupyter-widgets/base",
            "_view_module_version": "1.2.0",
            "_view_name": "StyleView",
            "description_width": ""
          }
        },
        "5bacfec023f741fda1d41c5374b236b1": {
          "model_module": "@jupyter-widgets/base",
          "model_module_version": "1.2.0",
          "model_name": "LayoutModel",
          "state": {
            "_model_module": "@jupyter-widgets/base",
            "_model_module_version": "1.2.0",
            "_model_name": "LayoutModel",
            "_view_count": null,
            "_view_module": "@jupyter-widgets/base",
            "_view_module_version": "1.2.0",
            "_view_name": "LayoutView",
            "align_content": null,
            "align_items": null,
            "align_self": null,
            "border": null,
            "bottom": null,
            "display": null,
            "flex": null,
            "flex_flow": null,
            "grid_area": null,
            "grid_auto_columns": null,
            "grid_auto_flow": null,
            "grid_auto_rows": null,
            "grid_column": null,
            "grid_gap": null,
            "grid_row": null,
            "grid_template_areas": null,
            "grid_template_columns": null,
            "grid_template_rows": null,
            "height": null,
            "justify_content": null,
            "justify_items": null,
            "left": null,
            "margin": null,
            "max_height": null,
            "max_width": null,
            "min_height": null,
            "min_width": null,
            "object_fit": null,
            "object_position": null,
            "order": null,
            "overflow": null,
            "overflow_x": null,
            "overflow_y": null,
            "padding": null,
            "right": null,
            "top": null,
            "visibility": null,
            "width": null
          }
        },
        "5fb8c12b35fd487e87cbcba95375c042": {
          "model_module": "@jupyter-widgets/controls",
          "model_module_version": "1.5.0",
          "model_name": "ProgressStyleModel",
          "state": {
            "_model_module": "@jupyter-widgets/controls",
            "_model_module_version": "1.5.0",
            "_model_name": "ProgressStyleModel",
            "_view_count": null,
            "_view_module": "@jupyter-widgets/base",
            "_view_module_version": "1.2.0",
            "_view_name": "StyleView",
            "bar_color": null,
            "description_width": ""
          }
        },
        "632a7fff0d7d454fb8741d584dea4d09": {
          "model_module": "@jupyter-widgets/base",
          "model_module_version": "1.2.0",
          "model_name": "LayoutModel",
          "state": {
            "_model_module": "@jupyter-widgets/base",
            "_model_module_version": "1.2.0",
            "_model_name": "LayoutModel",
            "_view_count": null,
            "_view_module": "@jupyter-widgets/base",
            "_view_module_version": "1.2.0",
            "_view_name": "LayoutView",
            "align_content": null,
            "align_items": null,
            "align_self": null,
            "border": null,
            "bottom": null,
            "display": null,
            "flex": null,
            "flex_flow": null,
            "grid_area": null,
            "grid_auto_columns": null,
            "grid_auto_flow": null,
            "grid_auto_rows": null,
            "grid_column": null,
            "grid_gap": null,
            "grid_row": null,
            "grid_template_areas": null,
            "grid_template_columns": null,
            "grid_template_rows": null,
            "height": null,
            "justify_content": null,
            "justify_items": null,
            "left": null,
            "margin": null,
            "max_height": null,
            "max_width": null,
            "min_height": null,
            "min_width": null,
            "object_fit": null,
            "object_position": null,
            "order": null,
            "overflow": null,
            "overflow_x": null,
            "overflow_y": null,
            "padding": null,
            "right": null,
            "top": null,
            "visibility": null,
            "width": null
          }
        },
        "63a94b72c50d45098335a6210348a39f": {
          "model_module": "@jupyter-widgets/controls",
          "model_module_version": "1.5.0",
          "model_name": "HBoxModel",
          "state": {
            "_dom_classes": [],
            "_model_module": "@jupyter-widgets/controls",
            "_model_module_version": "1.5.0",
            "_model_name": "HBoxModel",
            "_view_count": null,
            "_view_module": "@jupyter-widgets/controls",
            "_view_module_version": "1.5.0",
            "_view_name": "HBoxView",
            "box_style": "",
            "children": [
              "IPY_MODEL_1002c855dc51499c9508f8c1ecc2f448",
              "IPY_MODEL_e19941996290412c93bbbde7e93c32a9",
              "IPY_MODEL_19979947046c4e509e448b6ec6929956"
            ],
            "layout": "IPY_MODEL_632a7fff0d7d454fb8741d584dea4d09"
          }
        },
        "69d029b833704751a951702912915671": {
          "model_module": "@jupyter-widgets/controls",
          "model_module_version": "1.5.0",
          "model_name": "DescriptionStyleModel",
          "state": {
            "_model_module": "@jupyter-widgets/controls",
            "_model_module_version": "1.5.0",
            "_model_name": "DescriptionStyleModel",
            "_view_count": null,
            "_view_module": "@jupyter-widgets/base",
            "_view_module_version": "1.2.0",
            "_view_name": "StyleView",
            "description_width": ""
          }
        },
        "6b340727f041492c986722922c587be3": {
          "model_module": "@jupyter-widgets/controls",
          "model_module_version": "1.5.0",
          "model_name": "HTMLModel",
          "state": {
            "_dom_classes": [],
            "_model_module": "@jupyter-widgets/controls",
            "_model_module_version": "1.5.0",
            "_model_name": "HTMLModel",
            "_view_count": null,
            "_view_module": "@jupyter-widgets/controls",
            "_view_module_version": "1.5.0",
            "_view_name": "HTMLView",
            "description": "",
            "description_tooltip": null,
            "layout": "IPY_MODEL_a39a2191884e4681be4aa0465189d026",
            "placeholder": "​",
            "style": "IPY_MODEL_e961a40b7e354307a97ef5b1e2390949",
            "value": " 268M/268M [00:07&lt;00:00, 38.9MB/s]"
          }
        },
        "6c27a6e127f44daaa9dd4e867f92be98": {
          "model_module": "@jupyter-widgets/base",
          "model_module_version": "1.2.0",
          "model_name": "LayoutModel",
          "state": {
            "_model_module": "@jupyter-widgets/base",
            "_model_module_version": "1.2.0",
            "_model_name": "LayoutModel",
            "_view_count": null,
            "_view_module": "@jupyter-widgets/base",
            "_view_module_version": "1.2.0",
            "_view_name": "LayoutView",
            "align_content": null,
            "align_items": null,
            "align_self": null,
            "border": null,
            "bottom": null,
            "display": null,
            "flex": null,
            "flex_flow": null,
            "grid_area": null,
            "grid_auto_columns": null,
            "grid_auto_flow": null,
            "grid_auto_rows": null,
            "grid_column": null,
            "grid_gap": null,
            "grid_row": null,
            "grid_template_areas": null,
            "grid_template_columns": null,
            "grid_template_rows": null,
            "height": null,
            "justify_content": null,
            "justify_items": null,
            "left": null,
            "margin": null,
            "max_height": null,
            "max_width": null,
            "min_height": null,
            "min_width": null,
            "object_fit": null,
            "object_position": null,
            "order": null,
            "overflow": null,
            "overflow_x": null,
            "overflow_y": null,
            "padding": null,
            "right": null,
            "top": null,
            "visibility": null,
            "width": null
          }
        },
        "724b080a7d744f58968b9ab72da7497b": {
          "model_module": "@jupyter-widgets/base",
          "model_module_version": "1.2.0",
          "model_name": "LayoutModel",
          "state": {
            "_model_module": "@jupyter-widgets/base",
            "_model_module_version": "1.2.0",
            "_model_name": "LayoutModel",
            "_view_count": null,
            "_view_module": "@jupyter-widgets/base",
            "_view_module_version": "1.2.0",
            "_view_name": "LayoutView",
            "align_content": null,
            "align_items": null,
            "align_self": null,
            "border": null,
            "bottom": null,
            "display": null,
            "flex": null,
            "flex_flow": null,
            "grid_area": null,
            "grid_auto_columns": null,
            "grid_auto_flow": null,
            "grid_auto_rows": null,
            "grid_column": null,
            "grid_gap": null,
            "grid_row": null,
            "grid_template_areas": null,
            "grid_template_columns": null,
            "grid_template_rows": null,
            "height": null,
            "justify_content": null,
            "justify_items": null,
            "left": null,
            "margin": null,
            "max_height": null,
            "max_width": null,
            "min_height": null,
            "min_width": null,
            "object_fit": null,
            "object_position": null,
            "order": null,
            "overflow": null,
            "overflow_x": null,
            "overflow_y": null,
            "padding": null,
            "right": null,
            "top": null,
            "visibility": null,
            "width": null
          }
        },
        "7cfa509d1e2d45de8bfadd64adaf2352": {
          "model_module": "@jupyter-widgets/controls",
          "model_module_version": "1.5.0",
          "model_name": "HTMLModel",
          "state": {
            "_dom_classes": [],
            "_model_module": "@jupyter-widgets/controls",
            "_model_module_version": "1.5.0",
            "_model_name": "HTMLModel",
            "_view_count": null,
            "_view_module": "@jupyter-widgets/controls",
            "_view_module_version": "1.5.0",
            "_view_name": "HTMLView",
            "description": "",
            "description_tooltip": null,
            "layout": "IPY_MODEL_8e157b6d11934971930ad6a006d1a71d",
            "placeholder": "​",
            "style": "IPY_MODEL_59c97ef3d40c493d8dfb3924d8b5da1a",
            "value": " 28.0/28.0 [00:00&lt;00:00, 667B/s]"
          }
        },
        "8530d79b9b744946b8610fa6955a149f": {
          "model_module": "@jupyter-widgets/controls",
          "model_module_version": "1.5.0",
          "model_name": "HTMLModel",
          "state": {
            "_dom_classes": [],
            "_model_module": "@jupyter-widgets/controls",
            "_model_module_version": "1.5.0",
            "_model_name": "HTMLModel",
            "_view_count": null,
            "_view_module": "@jupyter-widgets/controls",
            "_view_module_version": "1.5.0",
            "_view_name": "HTMLView",
            "description": "",
            "description_tooltip": null,
            "layout": "IPY_MODEL_1113dfd355d1403c8a02df9a4a979caf",
            "placeholder": "​",
            "style": "IPY_MODEL_40b4d756ca624fb691fe83f2be8de507",
            "value": " 232k/232k [00:00&lt;00:00, 1.49MB/s]"
          }
        },
        "8e157b6d11934971930ad6a006d1a71d": {
          "model_module": "@jupyter-widgets/base",
          "model_module_version": "1.2.0",
          "model_name": "LayoutModel",
          "state": {
            "_model_module": "@jupyter-widgets/base",
            "_model_module_version": "1.2.0",
            "_model_name": "LayoutModel",
            "_view_count": null,
            "_view_module": "@jupyter-widgets/base",
            "_view_module_version": "1.2.0",
            "_view_name": "LayoutView",
            "align_content": null,
            "align_items": null,
            "align_self": null,
            "border": null,
            "bottom": null,
            "display": null,
            "flex": null,
            "flex_flow": null,
            "grid_area": null,
            "grid_auto_columns": null,
            "grid_auto_flow": null,
            "grid_auto_rows": null,
            "grid_column": null,
            "grid_gap": null,
            "grid_row": null,
            "grid_template_areas": null,
            "grid_template_columns": null,
            "grid_template_rows": null,
            "height": null,
            "justify_content": null,
            "justify_items": null,
            "left": null,
            "margin": null,
            "max_height": null,
            "max_width": null,
            "min_height": null,
            "min_width": null,
            "object_fit": null,
            "object_position": null,
            "order": null,
            "overflow": null,
            "overflow_x": null,
            "overflow_y": null,
            "padding": null,
            "right": null,
            "top": null,
            "visibility": null,
            "width": null
          }
        },
        "901404ea7d5e41fe9d9ab12ff8031b96": {
          "model_module": "@jupyter-widgets/base",
          "model_module_version": "1.2.0",
          "model_name": "LayoutModel",
          "state": {
            "_model_module": "@jupyter-widgets/base",
            "_model_module_version": "1.2.0",
            "_model_name": "LayoutModel",
            "_view_count": null,
            "_view_module": "@jupyter-widgets/base",
            "_view_module_version": "1.2.0",
            "_view_name": "LayoutView",
            "align_content": null,
            "align_items": null,
            "align_self": null,
            "border": null,
            "bottom": null,
            "display": null,
            "flex": null,
            "flex_flow": null,
            "grid_area": null,
            "grid_auto_columns": null,
            "grid_auto_flow": null,
            "grid_auto_rows": null,
            "grid_column": null,
            "grid_gap": null,
            "grid_row": null,
            "grid_template_areas": null,
            "grid_template_columns": null,
            "grid_template_rows": null,
            "height": null,
            "justify_content": null,
            "justify_items": null,
            "left": null,
            "margin": null,
            "max_height": null,
            "max_width": null,
            "min_height": null,
            "min_width": null,
            "object_fit": null,
            "object_position": null,
            "order": null,
            "overflow": null,
            "overflow_x": null,
            "overflow_y": null,
            "padding": null,
            "right": null,
            "top": null,
            "visibility": null,
            "width": null
          }
        },
        "93d2479d39eb449cb2b26ef5afd6d6d0": {
          "model_module": "@jupyter-widgets/controls",
          "model_module_version": "1.5.0",
          "model_name": "HBoxModel",
          "state": {
            "_dom_classes": [],
            "_model_module": "@jupyter-widgets/controls",
            "_model_module_version": "1.5.0",
            "_model_name": "HBoxModel",
            "_view_count": null,
            "_view_module": "@jupyter-widgets/controls",
            "_view_module_version": "1.5.0",
            "_view_name": "HBoxView",
            "box_style": "",
            "children": [
              "IPY_MODEL_fe08a0d161e448f5a5c786f65c2fd760",
              "IPY_MODEL_e8ddb348973a4a7b931191edb8187eda",
              "IPY_MODEL_409836bd66b942569adb087608d86ff6"
            ],
            "layout": "IPY_MODEL_6c27a6e127f44daaa9dd4e867f92be98"
          }
        },
        "972ad9222b664fdeaf1290214ccadd15": {
          "model_module": "@jupyter-widgets/controls",
          "model_module_version": "1.5.0",
          "model_name": "HTMLModel",
          "state": {
            "_dom_classes": [],
            "_model_module": "@jupyter-widgets/controls",
            "_model_module_version": "1.5.0",
            "_model_name": "HTMLModel",
            "_view_count": null,
            "_view_module": "@jupyter-widgets/controls",
            "_view_module_version": "1.5.0",
            "_view_name": "HTMLView",
            "description": "",
            "description_tooltip": null,
            "layout": "IPY_MODEL_724b080a7d744f58968b9ab72da7497b",
            "placeholder": "​",
            "style": "IPY_MODEL_b8f9f08dcd714a0292c7228ff0fd5f0d",
            "value": "Downloading: 100%"
          }
        },
        "97c62c55512e4e86a4bd250bcb2f06b3": {
          "model_module": "@jupyter-widgets/controls",
          "model_module_version": "1.5.0",
          "model_name": "ProgressStyleModel",
          "state": {
            "_model_module": "@jupyter-widgets/controls",
            "_model_module_version": "1.5.0",
            "_model_name": "ProgressStyleModel",
            "_view_count": null,
            "_view_module": "@jupyter-widgets/base",
            "_view_module_version": "1.2.0",
            "_view_name": "StyleView",
            "bar_color": null,
            "description_width": ""
          }
        },
        "a39a2191884e4681be4aa0465189d026": {
          "model_module": "@jupyter-widgets/base",
          "model_module_version": "1.2.0",
          "model_name": "LayoutModel",
          "state": {
            "_model_module": "@jupyter-widgets/base",
            "_model_module_version": "1.2.0",
            "_model_name": "LayoutModel",
            "_view_count": null,
            "_view_module": "@jupyter-widgets/base",
            "_view_module_version": "1.2.0",
            "_view_name": "LayoutView",
            "align_content": null,
            "align_items": null,
            "align_self": null,
            "border": null,
            "bottom": null,
            "display": null,
            "flex": null,
            "flex_flow": null,
            "grid_area": null,
            "grid_auto_columns": null,
            "grid_auto_flow": null,
            "grid_auto_rows": null,
            "grid_column": null,
            "grid_gap": null,
            "grid_row": null,
            "grid_template_areas": null,
            "grid_template_columns": null,
            "grid_template_rows": null,
            "height": null,
            "justify_content": null,
            "justify_items": null,
            "left": null,
            "margin": null,
            "max_height": null,
            "max_width": null,
            "min_height": null,
            "min_width": null,
            "object_fit": null,
            "object_position": null,
            "order": null,
            "overflow": null,
            "overflow_x": null,
            "overflow_y": null,
            "padding": null,
            "right": null,
            "top": null,
            "visibility": null,
            "width": null
          }
        },
        "a7fb4eb9bc1e4a9a8c53b86274da11a5": {
          "model_module": "@jupyter-widgets/base",
          "model_module_version": "1.2.0",
          "model_name": "LayoutModel",
          "state": {
            "_model_module": "@jupyter-widgets/base",
            "_model_module_version": "1.2.0",
            "_model_name": "LayoutModel",
            "_view_count": null,
            "_view_module": "@jupyter-widgets/base",
            "_view_module_version": "1.2.0",
            "_view_name": "LayoutView",
            "align_content": null,
            "align_items": null,
            "align_self": null,
            "border": null,
            "bottom": null,
            "display": null,
            "flex": null,
            "flex_flow": null,
            "grid_area": null,
            "grid_auto_columns": null,
            "grid_auto_flow": null,
            "grid_auto_rows": null,
            "grid_column": null,
            "grid_gap": null,
            "grid_row": null,
            "grid_template_areas": null,
            "grid_template_columns": null,
            "grid_template_rows": null,
            "height": null,
            "justify_content": null,
            "justify_items": null,
            "left": null,
            "margin": null,
            "max_height": null,
            "max_width": null,
            "min_height": null,
            "min_width": null,
            "object_fit": null,
            "object_position": null,
            "order": null,
            "overflow": null,
            "overflow_x": null,
            "overflow_y": null,
            "padding": null,
            "right": null,
            "top": null,
            "visibility": null,
            "width": null
          }
        },
        "b20e885267dd4e65bf088e56483a5ab1": {
          "model_module": "@jupyter-widgets/base",
          "model_module_version": "1.2.0",
          "model_name": "LayoutModel",
          "state": {
            "_model_module": "@jupyter-widgets/base",
            "_model_module_version": "1.2.0",
            "_model_name": "LayoutModel",
            "_view_count": null,
            "_view_module": "@jupyter-widgets/base",
            "_view_module_version": "1.2.0",
            "_view_name": "LayoutView",
            "align_content": null,
            "align_items": null,
            "align_self": null,
            "border": null,
            "bottom": null,
            "display": null,
            "flex": null,
            "flex_flow": null,
            "grid_area": null,
            "grid_auto_columns": null,
            "grid_auto_flow": null,
            "grid_auto_rows": null,
            "grid_column": null,
            "grid_gap": null,
            "grid_row": null,
            "grid_template_areas": null,
            "grid_template_columns": null,
            "grid_template_rows": null,
            "height": null,
            "justify_content": null,
            "justify_items": null,
            "left": null,
            "margin": null,
            "max_height": null,
            "max_width": null,
            "min_height": null,
            "min_width": null,
            "object_fit": null,
            "object_position": null,
            "order": null,
            "overflow": null,
            "overflow_x": null,
            "overflow_y": null,
            "padding": null,
            "right": null,
            "top": null,
            "visibility": null,
            "width": null
          }
        },
        "b46bc00deaea4729a924e72fe9f09dfc": {
          "model_module": "@jupyter-widgets/controls",
          "model_module_version": "1.5.0",
          "model_name": "FloatProgressModel",
          "state": {
            "_dom_classes": [],
            "_model_module": "@jupyter-widgets/controls",
            "_model_module_version": "1.5.0",
            "_model_name": "FloatProgressModel",
            "_view_count": null,
            "_view_module": "@jupyter-widgets/controls",
            "_view_module_version": "1.5.0",
            "_view_name": "ProgressView",
            "bar_style": "success",
            "description": "",
            "description_tooltip": null,
            "layout": "IPY_MODEL_20940e9c47624c0ca9d7400163f3a03b",
            "max": 28,
            "min": 0,
            "orientation": "horizontal",
            "style": "IPY_MODEL_04598f89aa8c4b5c9d8ca21db2dfdb4c",
            "value": 28
          }
        },
        "b67f23a6a99c4622aeec2cb9a0551bf1": {
          "model_module": "@jupyter-widgets/base",
          "model_module_version": "1.2.0",
          "model_name": "LayoutModel",
          "state": {
            "_model_module": "@jupyter-widgets/base",
            "_model_module_version": "1.2.0",
            "_model_name": "LayoutModel",
            "_view_count": null,
            "_view_module": "@jupyter-widgets/base",
            "_view_module_version": "1.2.0",
            "_view_name": "LayoutView",
            "align_content": null,
            "align_items": null,
            "align_self": null,
            "border": null,
            "bottom": null,
            "display": null,
            "flex": null,
            "flex_flow": null,
            "grid_area": null,
            "grid_auto_columns": null,
            "grid_auto_flow": null,
            "grid_auto_rows": null,
            "grid_column": null,
            "grid_gap": null,
            "grid_row": null,
            "grid_template_areas": null,
            "grid_template_columns": null,
            "grid_template_rows": null,
            "height": null,
            "justify_content": null,
            "justify_items": null,
            "left": null,
            "margin": null,
            "max_height": null,
            "max_width": null,
            "min_height": null,
            "min_width": null,
            "object_fit": null,
            "object_position": null,
            "order": null,
            "overflow": null,
            "overflow_x": null,
            "overflow_y": null,
            "padding": null,
            "right": null,
            "top": null,
            "visibility": null,
            "width": null
          }
        },
        "b8f9f08dcd714a0292c7228ff0fd5f0d": {
          "model_module": "@jupyter-widgets/controls",
          "model_module_version": "1.5.0",
          "model_name": "DescriptionStyleModel",
          "state": {
            "_model_module": "@jupyter-widgets/controls",
            "_model_module_version": "1.5.0",
            "_model_name": "DescriptionStyleModel",
            "_view_count": null,
            "_view_module": "@jupyter-widgets/base",
            "_view_module_version": "1.2.0",
            "_view_name": "StyleView",
            "description_width": ""
          }
        },
        "b904ede538c446af9f41aa2c7cc75f8b": {
          "model_module": "@jupyter-widgets/controls",
          "model_module_version": "1.5.0",
          "model_name": "DescriptionStyleModel",
          "state": {
            "_model_module": "@jupyter-widgets/controls",
            "_model_module_version": "1.5.0",
            "_model_name": "DescriptionStyleModel",
            "_view_count": null,
            "_view_module": "@jupyter-widgets/base",
            "_view_module_version": "1.2.0",
            "_view_name": "StyleView",
            "description_width": ""
          }
        },
        "bb1d557dad764d17953dd66f155a04e9": {
          "model_module": "@jupyter-widgets/controls",
          "model_module_version": "1.5.0",
          "model_name": "HBoxModel",
          "state": {
            "_dom_classes": [],
            "_model_module": "@jupyter-widgets/controls",
            "_model_module_version": "1.5.0",
            "_model_name": "HBoxModel",
            "_view_count": null,
            "_view_module": "@jupyter-widgets/controls",
            "_view_module_version": "1.5.0",
            "_view_name": "HBoxView",
            "box_style": "",
            "children": [
              "IPY_MODEL_972ad9222b664fdeaf1290214ccadd15",
              "IPY_MODEL_b46bc00deaea4729a924e72fe9f09dfc",
              "IPY_MODEL_7cfa509d1e2d45de8bfadd64adaf2352"
            ],
            "layout": "IPY_MODEL_a7fb4eb9bc1e4a9a8c53b86274da11a5"
          }
        },
        "c9116c620cd246798b669ff9431662e9": {
          "model_module": "@jupyter-widgets/base",
          "model_module_version": "1.2.0",
          "model_name": "LayoutModel",
          "state": {
            "_model_module": "@jupyter-widgets/base",
            "_model_module_version": "1.2.0",
            "_model_name": "LayoutModel",
            "_view_count": null,
            "_view_module": "@jupyter-widgets/base",
            "_view_module_version": "1.2.0",
            "_view_name": "LayoutView",
            "align_content": null,
            "align_items": null,
            "align_self": null,
            "border": null,
            "bottom": null,
            "display": null,
            "flex": null,
            "flex_flow": null,
            "grid_area": null,
            "grid_auto_columns": null,
            "grid_auto_flow": null,
            "grid_auto_rows": null,
            "grid_column": null,
            "grid_gap": null,
            "grid_row": null,
            "grid_template_areas": null,
            "grid_template_columns": null,
            "grid_template_rows": null,
            "height": null,
            "justify_content": null,
            "justify_items": null,
            "left": null,
            "margin": null,
            "max_height": null,
            "max_width": null,
            "min_height": null,
            "min_width": null,
            "object_fit": null,
            "object_position": null,
            "order": null,
            "overflow": null,
            "overflow_x": null,
            "overflow_y": null,
            "padding": null,
            "right": null,
            "top": null,
            "visibility": null,
            "width": null
          }
        },
        "cabf405cc3fa433bbfa5ce19ec490f22": {
          "model_module": "@jupyter-widgets/controls",
          "model_module_version": "1.5.0",
          "model_name": "HBoxModel",
          "state": {
            "_dom_classes": [],
            "_model_module": "@jupyter-widgets/controls",
            "_model_module_version": "1.5.0",
            "_model_name": "HBoxModel",
            "_view_count": null,
            "_view_module": "@jupyter-widgets/controls",
            "_view_module_version": "1.5.0",
            "_view_name": "HBoxView",
            "box_style": "",
            "children": [
              "IPY_MODEL_395afabe3b3e446d98c9501ebe785bed",
              "IPY_MODEL_f4ae9a186a4c4a849e31f1cf758be90b",
              "IPY_MODEL_8530d79b9b744946b8610fa6955a149f"
            ],
            "layout": "IPY_MODEL_fef7f48029694a2f9fbfa8c6955186c9"
          }
        },
        "cfce16c8976d466c9c2c24842502512a": {
          "model_module": "@jupyter-widgets/controls",
          "model_module_version": "1.5.0",
          "model_name": "ProgressStyleModel",
          "state": {
            "_model_module": "@jupyter-widgets/controls",
            "_model_module_version": "1.5.0",
            "_model_name": "ProgressStyleModel",
            "_view_count": null,
            "_view_module": "@jupyter-widgets/base",
            "_view_module_version": "1.2.0",
            "_view_name": "StyleView",
            "bar_color": null,
            "description_width": ""
          }
        },
        "d64a346451044ffcb50b356fb617372e": {
          "model_module": "@jupyter-widgets/base",
          "model_module_version": "1.2.0",
          "model_name": "LayoutModel",
          "state": {
            "_model_module": "@jupyter-widgets/base",
            "_model_module_version": "1.2.0",
            "_model_name": "LayoutModel",
            "_view_count": null,
            "_view_module": "@jupyter-widgets/base",
            "_view_module_version": "1.2.0",
            "_view_name": "LayoutView",
            "align_content": null,
            "align_items": null,
            "align_self": null,
            "border": null,
            "bottom": null,
            "display": null,
            "flex": null,
            "flex_flow": null,
            "grid_area": null,
            "grid_auto_columns": null,
            "grid_auto_flow": null,
            "grid_auto_rows": null,
            "grid_column": null,
            "grid_gap": null,
            "grid_row": null,
            "grid_template_areas": null,
            "grid_template_columns": null,
            "grid_template_rows": null,
            "height": null,
            "justify_content": null,
            "justify_items": null,
            "left": null,
            "margin": null,
            "max_height": null,
            "max_width": null,
            "min_height": null,
            "min_width": null,
            "object_fit": null,
            "object_position": null,
            "order": null,
            "overflow": null,
            "overflow_x": null,
            "overflow_y": null,
            "padding": null,
            "right": null,
            "top": null,
            "visibility": null,
            "width": null
          }
        },
        "da21d2e895a84abba27da26dd7c093ab": {
          "model_module": "@jupyter-widgets/controls",
          "model_module_version": "1.5.0",
          "model_name": "ProgressStyleModel",
          "state": {
            "_model_module": "@jupyter-widgets/controls",
            "_model_module_version": "1.5.0",
            "_model_name": "ProgressStyleModel",
            "_view_count": null,
            "_view_module": "@jupyter-widgets/base",
            "_view_module_version": "1.2.0",
            "_view_name": "StyleView",
            "bar_color": null,
            "description_width": ""
          }
        },
        "e19941996290412c93bbbde7e93c32a9": {
          "model_module": "@jupyter-widgets/controls",
          "model_module_version": "1.5.0",
          "model_name": "FloatProgressModel",
          "state": {
            "_dom_classes": [],
            "_model_module": "@jupyter-widgets/controls",
            "_model_module_version": "1.5.0",
            "_model_name": "FloatProgressModel",
            "_view_count": null,
            "_view_module": "@jupyter-widgets/controls",
            "_view_module_version": "1.5.0",
            "_view_name": "ProgressView",
            "bar_style": "success",
            "description": "",
            "description_tooltip": null,
            "layout": "IPY_MODEL_fcf40000bf26497d97370b36f02a66f1",
            "max": 483,
            "min": 0,
            "orientation": "horizontal",
            "style": "IPY_MODEL_da21d2e895a84abba27da26dd7c093ab",
            "value": 483
          }
        },
        "e34ea8a430764b8b8e131674c7f447ea": {
          "model_module": "@jupyter-widgets/base",
          "model_module_version": "1.2.0",
          "model_name": "LayoutModel",
          "state": {
            "_model_module": "@jupyter-widgets/base",
            "_model_module_version": "1.2.0",
            "_model_name": "LayoutModel",
            "_view_count": null,
            "_view_module": "@jupyter-widgets/base",
            "_view_module_version": "1.2.0",
            "_view_name": "LayoutView",
            "align_content": null,
            "align_items": null,
            "align_self": null,
            "border": null,
            "bottom": null,
            "display": null,
            "flex": null,
            "flex_flow": null,
            "grid_area": null,
            "grid_auto_columns": null,
            "grid_auto_flow": null,
            "grid_auto_rows": null,
            "grid_column": null,
            "grid_gap": null,
            "grid_row": null,
            "grid_template_areas": null,
            "grid_template_columns": null,
            "grid_template_rows": null,
            "height": null,
            "justify_content": null,
            "justify_items": null,
            "left": null,
            "margin": null,
            "max_height": null,
            "max_width": null,
            "min_height": null,
            "min_width": null,
            "object_fit": null,
            "object_position": null,
            "order": null,
            "overflow": null,
            "overflow_x": null,
            "overflow_y": null,
            "padding": null,
            "right": null,
            "top": null,
            "visibility": null,
            "width": null
          }
        },
        "e8ceeb3f62054a09ba1a051e34a80178": {
          "model_module": "@jupyter-widgets/base",
          "model_module_version": "1.2.0",
          "model_name": "LayoutModel",
          "state": {
            "_model_module": "@jupyter-widgets/base",
            "_model_module_version": "1.2.0",
            "_model_name": "LayoutModel",
            "_view_count": null,
            "_view_module": "@jupyter-widgets/base",
            "_view_module_version": "1.2.0",
            "_view_name": "LayoutView",
            "align_content": null,
            "align_items": null,
            "align_self": null,
            "border": null,
            "bottom": null,
            "display": null,
            "flex": null,
            "flex_flow": null,
            "grid_area": null,
            "grid_auto_columns": null,
            "grid_auto_flow": null,
            "grid_auto_rows": null,
            "grid_column": null,
            "grid_gap": null,
            "grid_row": null,
            "grid_template_areas": null,
            "grid_template_columns": null,
            "grid_template_rows": null,
            "height": null,
            "justify_content": null,
            "justify_items": null,
            "left": null,
            "margin": null,
            "max_height": null,
            "max_width": null,
            "min_height": null,
            "min_width": null,
            "object_fit": null,
            "object_position": null,
            "order": null,
            "overflow": null,
            "overflow_x": null,
            "overflow_y": null,
            "padding": null,
            "right": null,
            "top": null,
            "visibility": null,
            "width": null
          }
        },
        "e8ddb348973a4a7b931191edb8187eda": {
          "model_module": "@jupyter-widgets/controls",
          "model_module_version": "1.5.0",
          "model_name": "FloatProgressModel",
          "state": {
            "_dom_classes": [],
            "_model_module": "@jupyter-widgets/controls",
            "_model_module_version": "1.5.0",
            "_model_name": "FloatProgressModel",
            "_view_count": null,
            "_view_module": "@jupyter-widgets/controls",
            "_view_module_version": "1.5.0",
            "_view_name": "ProgressView",
            "bar_style": "success",
            "description": "",
            "description_tooltip": null,
            "layout": "IPY_MODEL_4b26018419814fc08ce9993d27ca372f",
            "max": 466062,
            "min": 0,
            "orientation": "horizontal",
            "style": "IPY_MODEL_5fb8c12b35fd487e87cbcba95375c042",
            "value": 466062
          }
        },
        "e961a40b7e354307a97ef5b1e2390949": {
          "model_module": "@jupyter-widgets/controls",
          "model_module_version": "1.5.0",
          "model_name": "DescriptionStyleModel",
          "state": {
            "_model_module": "@jupyter-widgets/controls",
            "_model_module_version": "1.5.0",
            "_model_name": "DescriptionStyleModel",
            "_view_count": null,
            "_view_module": "@jupyter-widgets/base",
            "_view_module_version": "1.2.0",
            "_view_name": "StyleView",
            "description_width": ""
          }
        },
        "f3fae95592a743a7aa84a7632db8dcc4": {
          "model_module": "@jupyter-widgets/controls",
          "model_module_version": "1.5.0",
          "model_name": "HTMLModel",
          "state": {
            "_dom_classes": [],
            "_model_module": "@jupyter-widgets/controls",
            "_model_module_version": "1.5.0",
            "_model_name": "HTMLModel",
            "_view_count": null,
            "_view_module": "@jupyter-widgets/controls",
            "_view_module_version": "1.5.0",
            "_view_name": "HTMLView",
            "description": "",
            "description_tooltip": null,
            "layout": "IPY_MODEL_d64a346451044ffcb50b356fb617372e",
            "placeholder": "​",
            "style": "IPY_MODEL_226e79c803254a0e90004f0ce25283d8",
            "value": "Downloading: 100%"
          }
        },
        "f4ae9a186a4c4a849e31f1cf758be90b": {
          "model_module": "@jupyter-widgets/controls",
          "model_module_version": "1.5.0",
          "model_name": "FloatProgressModel",
          "state": {
            "_dom_classes": [],
            "_model_module": "@jupyter-widgets/controls",
            "_model_module_version": "1.5.0",
            "_model_name": "FloatProgressModel",
            "_view_count": null,
            "_view_module": "@jupyter-widgets/controls",
            "_view_module_version": "1.5.0",
            "_view_name": "ProgressView",
            "bar_style": "success",
            "description": "",
            "description_tooltip": null,
            "layout": "IPY_MODEL_572d03ac32f1446784a8857a0b08ffe7",
            "max": 231508,
            "min": 0,
            "orientation": "horizontal",
            "style": "IPY_MODEL_97c62c55512e4e86a4bd250bcb2f06b3",
            "value": 231508
          }
        },
        "fcf11fad65eb4f12bb6de75d1b331a80": {
          "model_module": "@jupyter-widgets/controls",
          "model_module_version": "1.5.0",
          "model_name": "HBoxModel",
          "state": {
            "_dom_classes": [],
            "_model_module": "@jupyter-widgets/controls",
            "_model_module_version": "1.5.0",
            "_model_name": "HBoxModel",
            "_view_count": null,
            "_view_module": "@jupyter-widgets/controls",
            "_view_module_version": "1.5.0",
            "_view_name": "HBoxView",
            "box_style": "",
            "children": [
              "IPY_MODEL_f3fae95592a743a7aa84a7632db8dcc4",
              "IPY_MODEL_49f50a11b9b54a00904b0367b2253ef7",
              "IPY_MODEL_6b340727f041492c986722922c587be3"
            ],
            "layout": "IPY_MODEL_e8ceeb3f62054a09ba1a051e34a80178"
          }
        },
        "fcf40000bf26497d97370b36f02a66f1": {
          "model_module": "@jupyter-widgets/base",
          "model_module_version": "1.2.0",
          "model_name": "LayoutModel",
          "state": {
            "_model_module": "@jupyter-widgets/base",
            "_model_module_version": "1.2.0",
            "_model_name": "LayoutModel",
            "_view_count": null,
            "_view_module": "@jupyter-widgets/base",
            "_view_module_version": "1.2.0",
            "_view_name": "LayoutView",
            "align_content": null,
            "align_items": null,
            "align_self": null,
            "border": null,
            "bottom": null,
            "display": null,
            "flex": null,
            "flex_flow": null,
            "grid_area": null,
            "grid_auto_columns": null,
            "grid_auto_flow": null,
            "grid_auto_rows": null,
            "grid_column": null,
            "grid_gap": null,
            "grid_row": null,
            "grid_template_areas": null,
            "grid_template_columns": null,
            "grid_template_rows": null,
            "height": null,
            "justify_content": null,
            "justify_items": null,
            "left": null,
            "margin": null,
            "max_height": null,
            "max_width": null,
            "min_height": null,
            "min_width": null,
            "object_fit": null,
            "object_position": null,
            "order": null,
            "overflow": null,
            "overflow_x": null,
            "overflow_y": null,
            "padding": null,
            "right": null,
            "top": null,
            "visibility": null,
            "width": null
          }
        },
        "fe08a0d161e448f5a5c786f65c2fd760": {
          "model_module": "@jupyter-widgets/controls",
          "model_module_version": "1.5.0",
          "model_name": "HTMLModel",
          "state": {
            "_dom_classes": [],
            "_model_module": "@jupyter-widgets/controls",
            "_model_module_version": "1.5.0",
            "_model_name": "HTMLModel",
            "_view_count": null,
            "_view_module": "@jupyter-widgets/controls",
            "_view_module_version": "1.5.0",
            "_view_name": "HTMLView",
            "description": "",
            "description_tooltip": null,
            "layout": "IPY_MODEL_901404ea7d5e41fe9d9ab12ff8031b96",
            "placeholder": "​",
            "style": "IPY_MODEL_19f4e2bcb00b4dc4aa6804a0ece5df5c",
            "value": "Downloading: 100%"
          }
        },
        "fef7f48029694a2f9fbfa8c6955186c9": {
          "model_module": "@jupyter-widgets/base",
          "model_module_version": "1.2.0",
          "model_name": "LayoutModel",
          "state": {
            "_model_module": "@jupyter-widgets/base",
            "_model_module_version": "1.2.0",
            "_model_name": "LayoutModel",
            "_view_count": null,
            "_view_module": "@jupyter-widgets/base",
            "_view_module_version": "1.2.0",
            "_view_name": "LayoutView",
            "align_content": null,
            "align_items": null,
            "align_self": null,
            "border": null,
            "bottom": null,
            "display": null,
            "flex": null,
            "flex_flow": null,
            "grid_area": null,
            "grid_auto_columns": null,
            "grid_auto_flow": null,
            "grid_auto_rows": null,
            "grid_column": null,
            "grid_gap": null,
            "grid_row": null,
            "grid_template_areas": null,
            "grid_template_columns": null,
            "grid_template_rows": null,
            "height": null,
            "justify_content": null,
            "justify_items": null,
            "left": null,
            "margin": null,
            "max_height": null,
            "max_width": null,
            "min_height": null,
            "min_width": null,
            "object_fit": null,
            "object_position": null,
            "order": null,
            "overflow": null,
            "overflow_x": null,
            "overflow_y": null,
            "padding": null,
            "right": null,
            "top": null,
            "visibility": null,
            "width": null
          }
        }
      }
    }
  },
  "nbformat": 4,
  "nbformat_minor": 5
}
